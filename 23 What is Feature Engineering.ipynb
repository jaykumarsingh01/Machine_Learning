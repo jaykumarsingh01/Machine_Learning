{
 "cells": [
  {
   "cell_type": "markdown",
   "id": "daf05cc4-2b18-4b5d-b3ae-8624de340439",
   "metadata": {},
   "source": [
    "# Feature engineering is the process of using domain knowledge to extract feature from raw data. These feature can be used to imporve the performance of machine learning algorithm "
   ]
  },
  {
   "attachments": {},
   "cell_type": "markdown",
   "id": "04121115-f513-4ac1-841c-57fbf19def17",
   "metadata": {},
   "source": []
  }
 ],
 "metadata": {
  "kernelspec": {
   "display_name": "Python [conda env:base] *",
   "language": "python",
   "name": "conda-base-py"
  },
  "language_info": {
   "codemirror_mode": {
    "name": "ipython",
    "version": 3
   },
   "file_extension": ".py",
   "mimetype": "text/x-python",
   "name": "python",
   "nbconvert_exporter": "python",
   "pygments_lexer": "ipython3",
   "version": "3.12.7"
  }
 },
 "nbformat": 4,
 "nbformat_minor": 5
}
